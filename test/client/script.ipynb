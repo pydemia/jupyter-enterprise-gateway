{
 "cells": [
  {
   "cell_type": "code",
   "execution_count": 1,
   "id": "0ed86ff6-6f77-4f84-8c75-69265ec0575f",
   "metadata": {},
   "outputs": [
    {
     "name": "stdout",
     "output_type": "stream",
     "text": [
      "test\n"
     ]
    }
   ],
   "source": [
    "print('test')"
   ]
  },
  {
   "cell_type": "code",
   "execution_count": 2,
   "id": "3d26309c-e8f5-42e5-89a7-e77012826c22",
   "metadata": {},
   "outputs": [
    {
     "name": "stdout",
     "output_type": "stream",
     "text": [
      "spark\n"
     ]
    }
   ],
   "source": [
    "print(\"spark\")"
   ]
  },
  {
   "cell_type": "code",
   "execution_count": 3,
   "id": "aa062b94-f6ae-4fe0-8f03-380fa34dfeb1",
   "metadata": {},
   "outputs": [
    {
     "name": "stderr",
     "output_type": "stream",
     "text": [
      "[E 2023-01-06 08:24:25,030.030 root] LOGGING TEST\n"
     ]
    }
   ],
   "source": [
    "import logging\n",
    "logging.error(\"LOGGING TEST\")"
   ]
  }
 ],
 "metadata": {
  "kernelspec": {
   "display_name": "Python on Kubernetes",
   "language": "python",
   "name": "python_kubernetes"
  },
  "language_info": {
   "codemirror_mode": {
    "name": "ipython",
    "version": 3
   },
   "file_extension": ".py",
   "mimetype": "text/x-python",
   "name": "python",
   "nbconvert_exporter": "python",
   "pygments_lexer": "ipython3",
   "version": "3.7.6"
  }
 },
 "nbformat": 4,
 "nbformat_minor": 5
}
